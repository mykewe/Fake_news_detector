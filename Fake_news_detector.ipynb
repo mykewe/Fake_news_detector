{
 "cells": [
  {
   "cell_type": "code",
   "execution_count": 1,
   "id": "5cab2f5d",
   "metadata": {},
   "outputs": [],
   "source": [
    "import pandas as pd"
   ]
  },
  {
   "cell_type": "code",
   "execution_count": 6,
   "id": "cc5521a9",
   "metadata": {},
   "outputs": [],
   "source": [
    "data = pd.read_csv('political_fact_checker.csv', index_col=0)"
   ]
  },
  {
   "cell_type": "code",
   "execution_count": 8,
   "id": "b6e4fd9c",
   "metadata": {},
   "outputs": [
    {
     "data": {
      "text/html": [
       "<div>\n",
       "<style scoped>\n",
       "    .dataframe tbody tr th:only-of-type {\n",
       "        vertical-align: middle;\n",
       "    }\n",
       "\n",
       "    .dataframe tbody tr th {\n",
       "        vertical-align: top;\n",
       "    }\n",
       "\n",
       "    .dataframe thead th {\n",
       "        text-align: right;\n",
       "    }\n",
       "</style>\n",
       "<table border=\"1\" class=\"dataframe\">\n",
       "  <thead>\n",
       "    <tr style=\"text-align: right;\">\n",
       "      <th></th>\n",
       "      <th>author</th>\n",
       "      <th>statement</th>\n",
       "      <th>source</th>\n",
       "      <th>date</th>\n",
       "      <th>target</th>\n",
       "    </tr>\n",
       "  </thead>\n",
       "  <tbody>\n",
       "    <tr>\n",
       "      <th>0</th>\n",
       "      <td>Monique Curet</td>\n",
       "      <td>\"Special Forces arrest Deep State Dr. Anthony ...</td>\n",
       "      <td>Instagram posts</td>\n",
       "      <td>April 12, 2022</td>\n",
       "      <td>pants-fire</td>\n",
       "    </tr>\n",
       "    <tr>\n",
       "      <th>1</th>\n",
       "      <td>Warren Fiske</td>\n",
       "      <td>“The proposed (Virginia) House budget cuts hun...</td>\n",
       "      <td>Democratic Party of Virginia</td>\n",
       "      <td>April 12, 2022</td>\n",
       "      <td>false</td>\n",
       "    </tr>\n",
       "    <tr>\n",
       "      <th>2</th>\n",
       "      <td>Tom Kertscher</td>\n",
       "      <td>“Mike Lee advised Trump's legal challenges to ...</td>\n",
       "      <td>Evan McMullin</td>\n",
       "      <td>April 11, 2022</td>\n",
       "      <td>half-true</td>\n",
       "    </tr>\n",
       "    <tr>\n",
       "      <th>3</th>\n",
       "      <td>Monique Curet</td>\n",
       "      <td>As with people vaccinated against COVID-19, “m...</td>\n",
       "      <td>Facebook posts</td>\n",
       "      <td>April 11, 2022</td>\n",
       "      <td>barely-true</td>\n",
       "    </tr>\n",
       "    <tr>\n",
       "      <th>4</th>\n",
       "      <td>Yacob Reyes</td>\n",
       "      <td>New York City is “wasting taxpayer money on” b...</td>\n",
       "      <td>Ron DeSantis</td>\n",
       "      <td>April 11, 2022</td>\n",
       "      <td>false</td>\n",
       "    </tr>\n",
       "  </tbody>\n",
       "</table>\n",
       "</div>"
      ],
      "text/plain": [
       "          author                                          statement  \\\n",
       "0  Monique Curet  \"Special Forces arrest Deep State Dr. Anthony ...   \n",
       "1   Warren Fiske  “The proposed (Virginia) House budget cuts hun...   \n",
       "2  Tom Kertscher  “Mike Lee advised Trump's legal challenges to ...   \n",
       "3  Monique Curet  As with people vaccinated against COVID-19, “m...   \n",
       "4    Yacob Reyes  New York City is “wasting taxpayer money on” b...   \n",
       "\n",
       "                         source            date       target  \n",
       "0               Instagram posts  April 12, 2022   pants-fire  \n",
       "1  Democratic Party of Virginia  April 12, 2022        false  \n",
       "2                 Evan McMullin  April 11, 2022    half-true  \n",
       "3                Facebook posts  April 11, 2022  barely-true  \n",
       "4                  Ron DeSantis  April 11, 2022        false  "
      ]
     },
     "execution_count": 8,
     "metadata": {},
     "output_type": "execute_result"
    }
   ],
   "source": [
    "data.head()"
   ]
  },
  {
   "cell_type": "code",
   "execution_count": 11,
   "id": "f8f4d5e2",
   "metadata": {},
   "outputs": [
    {
     "data": {
      "text/plain": [
       "'“The proposed (Virginia) House budget cuts hundreds of millions in funding for public education…”'"
      ]
     },
     "execution_count": 11,
     "metadata": {},
     "output_type": "execute_result"
    }
   ],
   "source": [
    "data['statement'][1]"
   ]
  },
  {
   "cell_type": "code",
   "execution_count": null,
   "id": "a28d67f6",
   "metadata": {},
   "outputs": [],
   "source": []
  }
 ],
 "metadata": {
  "kernelspec": {
   "display_name": "Python 3 (ipykernel)",
   "language": "python",
   "name": "python3"
  },
  "language_info": {
   "codemirror_mode": {
    "name": "ipython",
    "version": 3
   },
   "file_extension": ".py",
   "mimetype": "text/x-python",
   "name": "python",
   "nbconvert_exporter": "python",
   "pygments_lexer": "ipython3",
   "version": "3.8.8"
  }
 },
 "nbformat": 4,
 "nbformat_minor": 5
}
